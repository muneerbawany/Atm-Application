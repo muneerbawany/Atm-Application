{
  "nbformat": 4,
  "nbformat_minor": 0,
  "metadata": {
    "colab": {
      "provenance": [],
      "authorship_tag": "ABX9TyPIm9+PJj5vw2P4h/cI/lFH",
      "include_colab_link": true
    },
    "kernelspec": {
      "name": "python3",
      "display_name": "Python 3"
    },
    "language_info": {
      "name": "python"
    }
  },
  "cells": [
    {
      "cell_type": "markdown",
      "metadata": {
        "id": "view-in-github",
        "colab_type": "text"
      },
      "source": [
        "<a href=\"https://colab.research.google.com/github/muneerbawany/Atm-Application/blob/main/Project1_Hello_World_with_Langchain.ipynb\" target=\"_parent\"><img src=\"https://colab.research.google.com/assets/colab-badge.svg\" alt=\"Open In Colab\"/></a>"
      ]
    },
    {
      "cell_type": "code",
      "execution_count": 1,
      "metadata": {
        "colab": {
          "base_uri": "https://localhost:8080/"
        },
        "id": "nxi_TFHo8QDm",
        "outputId": "2b4cc051-8c3b-448e-f226-9a113b1feb77"
      },
      "outputs": [
        {
          "output_type": "stream",
          "name": "stdout",
          "text": [
            "\u001b[?25l   \u001b[90m━━━━━━━━━━━━━━━━━━━━━━━━━━━━━━━━━━━━━━━━\u001b[0m \u001b[32m0.0/1.0 MB\u001b[0m \u001b[31m?\u001b[0m eta \u001b[36m-:--:--\u001b[0m\r\u001b[2K   \u001b[91m━━━━\u001b[0m\u001b[91m╸\u001b[0m\u001b[90m━━━━━━━━━━━━━━━━━━━━━━━━━━━━━━━━━━━\u001b[0m \u001b[32m0.1/1.0 MB\u001b[0m \u001b[31m4.3 MB/s\u001b[0m eta \u001b[36m0:00:01\u001b[0m\r\u001b[2K   \u001b[91m━━━━━━━━━━━━━━━━━━━━━━━━━━━━━━━━━━━━━━━\u001b[0m\u001b[91m╸\u001b[0m \u001b[32m1.0/1.0 MB\u001b[0m \u001b[31m15.7 MB/s\u001b[0m eta \u001b[36m0:00:01\u001b[0m\r\u001b[2K   \u001b[90m━━━━━━━━━━━━━━━━━━━━━━━━━━━━━━━━━━━━━━━━\u001b[0m \u001b[32m1.0/1.0 MB\u001b[0m \u001b[31m12.2 MB/s\u001b[0m eta \u001b[36m0:00:00\u001b[0m\n",
            "\u001b[?25h\u001b[?25l   \u001b[90m━━━━━━━━━━━━━━━━━━━━━━━━━━━━━━━━━━━━━━━━\u001b[0m \u001b[32m0.0/41.3 kB\u001b[0m \u001b[31m?\u001b[0m eta \u001b[36m-:--:--\u001b[0m\r\u001b[2K   \u001b[90m━━━━━━━━━━━━━━━━━━━━━━━━━━━━━━━━━━━━━━━━\u001b[0m \u001b[32m41.3/41.3 kB\u001b[0m \u001b[31m2.6 MB/s\u001b[0m eta \u001b[36m0:00:00\u001b[0m\n",
            "\u001b[?25h\u001b[?25l   \u001b[90m━━━━━━━━━━━━━━━━━━━━━━━━━━━━━━━━━━━━━━━━\u001b[0m \u001b[32m0.0/411.6 kB\u001b[0m \u001b[31m?\u001b[0m eta \u001b[36m-:--:--\u001b[0m\r\u001b[2K   \u001b[90m━━━━━━━━━━━━━━━━━━━━━━━━━━━━━━━━━━━━━━━━\u001b[0m \u001b[32m411.6/411.6 kB\u001b[0m \u001b[31m25.7 MB/s\u001b[0m eta \u001b[36m0:00:00\u001b[0m\n",
            "\u001b[?25h"
          ]
        }
      ],
      "source": [
        "# LangChain and langchain-google-genai SDK\n",
        "!pip install -Uq langchain langchain-google-genai"
      ]
    },
    {
      "cell_type": "code",
      "source": [
        "import langchain_google_genai as genai"
      ],
      "metadata": {
        "id": "enAsJfPa-nos"
      },
      "execution_count": 2,
      "outputs": []
    },
    {
      "cell_type": "code",
      "source": [
        "from langchain_google_genai import ChatGoogleGenerativeAI"
      ],
      "metadata": {
        "id": "Qx-7J50T-qvR"
      },
      "execution_count": 3,
      "outputs": []
    },
    {
      "cell_type": "code",
      "source": [
        "from google.colab import userdata\n",
        "GOOGLE_API_KEY = userdata.get('GOOGLE_API_KEY_1')"
      ],
      "metadata": {
        "id": "-9yataZt-zer"
      },
      "execution_count": 4,
      "outputs": []
    },
    {
      "cell_type": "code",
      "source": [
        "llm = ChatGoogleGenerativeAI(\n",
        "    model=\"gemini-2.0-flash-exp\",\n",
        "    api_key=GOOGLE_API_KEY\n",
        ")"
      ],
      "metadata": {
        "id": "EF1N1bbB-25b"
      },
      "execution_count": 5,
      "outputs": []
    },
    {
      "cell_type": "code",
      "source": [
        "response = llm.invoke(\"Define Agentic Ai & its Benefits\")\n",
        "print(response.content)"
      ],
      "metadata": {
        "colab": {
          "base_uri": "https://localhost:8080/"
        },
        "id": "QXhgrGoo-6AY",
        "outputId": "c03f6b80-854d-4ba2-9749-b20415f61f3f"
      },
      "execution_count": 6,
      "outputs": [
        {
          "output_type": "stream",
          "name": "stdout",
          "text": [
            "Okay, let's break down Agentic AI and its benefits.\n",
            "\n",
            "**What is Agentic AI?**\n",
            "\n",
            "Agentic AI, also sometimes referred to as autonomous AI or AI agents, represents a significant step beyond traditional AI systems. Instead of passively responding to specific instructions, **Agentic AI systems are designed to be proactive, autonomous, and goal-oriented.** They can:\n",
            "\n",
            "*   **Perceive:** Gather information from their environment through various sensors (data feeds, APIs, user input, etc.).\n",
            "*   **Reason:** Analyze and understand the information they gather, develop strategies, and plan actions.\n",
            "*   **Act:** Execute actions to achieve their goals, which could involve interacting with other systems, modifying data, or providing output.\n",
            "*   **Learn:** Adapt and improve their performance over time based on the outcomes of their actions. They can refine their strategies and become more effective.\n",
            "\n",
            "**Key Characteristics of Agentic AI:**\n",
            "\n",
            "*   **Autonomy:** They can operate independently without constant human intervention.\n",
            "*   **Goal-Oriented:** They are driven by specific objectives and work towards achieving them.\n",
            "*   **Proactivity:** They can initiate actions and don't just react to commands.\n",
            "*   **Adaptability:** They can adjust their strategies based on new information and feedback.\n",
            "*   **Persistence:** They continue to work towards their goals even if they encounter obstacles.\n",
            "*   **Planning:** They can create and execute complex plans to achieve their objectives.\n",
            "\n",
            "**How is it different from traditional AI?**\n",
            "\n",
            "Traditional AI systems, like a basic chatbot or image recognition tool, are typically reactive. They perform a specific task when given an input and then stop. Agentic AI, on the other hand, is more like a virtual assistant that can handle complex tasks, manage a project, or even conduct research, all with minimal human oversight. Think of it as moving from a simple tool to an intelligent, proactive partner.\n",
            "\n",
            "**Benefits of Agentic AI:**\n",
            "\n",
            "The potential benefits of Agentic AI are vast and span across various industries and applications:\n",
            "\n",
            "1.  **Increased Efficiency and Productivity:**\n",
            "    *   **Automation of Complex Tasks:** Agentic AI can automate intricate workflows, freeing up human workers to focus on more strategic and creative tasks.\n",
            "    *   **24/7 Operation:** They can work continuously without breaks, leading to faster turnaround times.\n",
            "    *   **Reduced Errors:** They can perform tasks with greater consistency and accuracy than humans, reducing the risk of errors.\n",
            "\n",
            "2.  **Enhanced Decision-Making:**\n",
            "    *   **Data Analysis:** They can analyze vast amounts of data to identify patterns and insights that humans might miss.\n",
            "    *   **Predictive Modeling:** They can create accurate forecasts to support better decision-making.\n",
            "    *   **Objective Analysis:** They can provide objective assessments, free from human bias.\n",
            "\n",
            "3.  **Improved Customer Service:**\n",
            "    *   **Personalized Experiences:** They can provide personalized support and recommendations based on individual customer needs.\n",
            "    *   **Faster Response Times:** They can respond to customer inquiries instantly, leading to higher satisfaction.\n",
            "    *   **Multilingual Support:** They can handle interactions in multiple languages, expanding reach and accessibility.\n",
            "\n",
            "4.  **Innovation and Research:**\n",
            "    *   **Accelerated Discovery:** They can assist in scientific research by automating experiments, analyzing data, and generating new hypotheses.\n",
            "    *   **Creative Problem Solving:** They can explore unconventional solutions and generate new ideas.\n",
            "    *   **Rapid Prototyping:** They can quickly develop and test new products and services.\n",
            "\n",
            "5.  **Cost Reduction:**\n",
            "    *   **Reduced Labor Costs:** Automation can reduce the need for human labor in repetitive tasks.\n",
            "    *   **Optimized Resource Allocation:** They can optimize resource usage, reducing waste and costs.\n",
            "    *   **Lower Operational Expenses:** They can automate processes that reduce operational costs.\n",
            "\n",
            "6.  **Personalized Learning and Development:**\n",
            "    *   **Adaptive Learning:** They can personalize learning experiences based on individual needs and progress.\n",
            "    *   **Skill Gap Identification:** They can identify skill gaps and recommend training programs to address them.\n",
            "    *   **Personalized Coaching:** They can provide personalized coaching and mentoring to individuals.\n",
            "\n",
            "**Examples of Agentic AI Applications:**\n",
            "\n",
            "*   **Autonomous Vehicles:** Self-driving cars that navigate and make decisions without human intervention.\n",
            "*   **Robotic Process Automation (RPA):** Automating complex business processes across various systems.\n",
            "*   **Personalized Assistants:** Intelligent assistants that can manage schedules, make reservations, and handle other tasks.\n",
            "*   **Supply Chain Management:** Optimizing logistics, inventory, and delivery schedules.\n",
            "*   **Financial Trading:** Automatically executing trades based on market analysis.\n",
            "*   **Cybersecurity:** Detecting and responding to cyber threats in real-time.\n",
            "*   **Drug Discovery:** Accelerating the process of identifying new drug candidates.\n",
            "\n",
            "**Challenges of Agentic AI:**\n",
            "\n",
            "While the potential of Agentic AI is immense, there are also challenges to address:\n",
            "\n",
            "*   **Ethical Concerns:** Issues related to bias, transparency, and accountability.\n",
            "*   **Security Risks:** Potential for misuse or malicious exploitation.\n",
            "*   **Job Displacement:** Potential impact on the workforce due to automation.\n",
            "*   **Complexity and Development:** Building and deploying Agentic AI systems can be complex and resource-intensive.\n",
            "*   **Trust and Explainability:** Ensuring that AI agents are reliable and that their decisions can be understood.\n",
            "\n",
            "**Conclusion:**\n",
            "\n",
            "Agentic AI represents a significant advancement in artificial intelligence, moving beyond reactive tools to proactive, autonomous systems. Its potential benefits are transformative, offering increased efficiency, enhanced decision-making, and new possibilities for innovation. However, it's essential to address the ethical and societal challenges to ensure that this technology is used responsibly and for the benefit of all. As the field continues to evolve, we can expect to see even more applications and capabilities emerge.\n",
            "\n"
          ]
        }
      ]
    }
  ]
}